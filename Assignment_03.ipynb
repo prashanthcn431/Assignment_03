{
  "nbformat": 4,
  "nbformat_minor": 0,
  "metadata": {
    "colab": {
      "provenance": []
    },
    "kernelspec": {
      "name": "python3",
      "display_name": "Python 3"
    },
    "language_info": {
      "name": "python"
    }
  },
  "cells": [
    {
      "cell_type": "markdown",
      "source": [
        "Name : Prashanth CN"
      ],
      "metadata": {
        "id": "Q4RiYefmkHZ0"
      }
    },
    {
      "cell_type": "markdown",
      "source": [
        "## Assignment = 3"
      ],
      "metadata": {
        "id": "Hxg67GNpMUQ7"
      }
    },
    {
      "cell_type": "markdown",
      "source": [
        "## Part 1:Basic Slicing"
      ],
      "metadata": {
        "id": "baHExuZrMaQd"
      }
    },
    {
      "cell_type": "markdown",
      "source": [
        "## 1).Introduction to slicing"
      ],
      "metadata": {
        "id": "BtdpFJy1Mqt0"
      }
    },
    {
      "cell_type": "markdown",
      "source": [
        "a.given a string s = \"Hello,World!\",slice and print the following,i).The entire string."
      ],
      "metadata": {
        "id": "rhhQyCIaNGIK"
      }
    },
    {
      "cell_type": "code",
      "source": [
        "s = \"hello,World!\""
      ],
      "metadata": {
        "id": "zVfxzSvhvnBc"
      },
      "execution_count": 1,
      "outputs": []
    },
    {
      "cell_type": "code",
      "source": [
        "print(s)"
      ],
      "metadata": {
        "colab": {
          "base_uri": "https://localhost:8080/"
        },
        "id": "ecO_j720MQN3",
        "outputId": "afcfb34b-ff77-4f40-d671-22ba5fbbf54e"
      },
      "execution_count": 2,
      "outputs": [
        {
          "output_type": "stream",
          "name": "stdout",
          "text": [
            "hello,World!\n"
          ]
        }
      ]
    },
    {
      "cell_type": "markdown",
      "source": [
        "ii).The first 5 characters"
      ],
      "metadata": {
        "id": "es99ZdwfNlNx"
      }
    },
    {
      "cell_type": "code",
      "source": [
        "s = \"Hello,World!\""
      ],
      "metadata": {
        "id": "5j4HTJjKNgZE"
      },
      "execution_count": 3,
      "outputs": []
    },
    {
      "cell_type": "code",
      "source": [
        " s[:5]"
      ],
      "metadata": {
        "colab": {
          "base_uri": "https://localhost:8080/",
          "height": 36
        },
        "id": "4cqyLs25Nwrg",
        "outputId": "c79ac06b-2ffb-4888-c0da-fe98baaa8ac3"
      },
      "execution_count": 5,
      "outputs": [
        {
          "output_type": "execute_result",
          "data": {
            "text/plain": [
              "'Hello'"
            ],
            "application/vnd.google.colaboratory.intrinsic+json": {
              "type": "string"
            }
          },
          "metadata": {},
          "execution_count": 5
        }
      ]
    },
    {
      "cell_type": "markdown",
      "source": [
        "iii). The last 5 characters."
      ],
      "metadata": {
        "id": "V0U594VwOOUu"
      }
    },
    {
      "cell_type": "code",
      "source": [
        "s = \"Hello,World!\""
      ],
      "metadata": {
        "id": "bJpjC0C3ODDi"
      },
      "execution_count": 6,
      "outputs": []
    },
    {
      "cell_type": "code",
      "source": [
        "s[5:]"
      ],
      "metadata": {
        "colab": {
          "base_uri": "https://localhost:8080/",
          "height": 36
        },
        "id": "crfQMOngOXHC",
        "outputId": "92d36f94-065c-462b-84ce-c0f61b0c5ff8"
      },
      "execution_count": 7,
      "outputs": [
        {
          "output_type": "execute_result",
          "data": {
            "text/plain": [
              "',World!'"
            ],
            "application/vnd.google.colaboratory.intrinsic+json": {
              "type": "string"
            }
          },
          "metadata": {},
          "execution_count": 7
        }
      ]
    },
    {
      "cell_type": "markdown",
      "source": [
        "iv). The string excludes the first and last characters."
      ],
      "metadata": {
        "id": "b4Hwity6Oqc-"
      }
    },
    {
      "cell_type": "code",
      "source": [
        "s = \"Hello,World!\""
      ],
      "metadata": {
        "id": "nJ5rO1TJOZdX"
      },
      "execution_count": 8,
      "outputs": []
    },
    {
      "cell_type": "code",
      "source": [
        "s[1:10]"
      ],
      "metadata": {
        "colab": {
          "base_uri": "https://localhost:8080/",
          "height": 36
        },
        "id": "iUl5irErOuKT",
        "outputId": "759bcbd8-8f4d-4f5b-ca42-e33e652606a9"
      },
      "execution_count": 10,
      "outputs": [
        {
          "output_type": "execute_result",
          "data": {
            "text/plain": [
              "'ello,Worl'"
            ],
            "application/vnd.google.colaboratory.intrinsic+json": {
              "type": "string"
            }
          },
          "metadata": {},
          "execution_count": 10
        }
      ]
    },
    {
      "cell_type": "markdown",
      "source": [
        "v). Every second character in the string."
      ],
      "metadata": {
        "id": "tiOX8eJ9PA6n"
      }
    },
    {
      "cell_type": "code",
      "source": [
        "s = \"Hello,World!\""
      ],
      "metadata": {
        "id": "DSY3_NkBO1pX"
      },
      "execution_count": 11,
      "outputs": []
    },
    {
      "cell_type": "code",
      "source": [
        "s[0::2]"
      ],
      "metadata": {
        "colab": {
          "base_uri": "https://localhost:8080/",
          "height": 36
        },
        "id": "Rd6gsH3jPX8w",
        "outputId": "d6a86de2-2586-4604-8d82-589077fe843a"
      },
      "execution_count": 12,
      "outputs": [
        {
          "output_type": "execute_result",
          "data": {
            "text/plain": [
              "'HloWrd'"
            ],
            "application/vnd.google.colaboratory.intrinsic+json": {
              "type": "string"
            }
          },
          "metadata": {},
          "execution_count": 12
        }
      ]
    },
    {
      "cell_type": "markdown",
      "source": [
        "## 2. Slicing with Negative Indices:"
      ],
      "metadata": {
        "id": "lKFLukiwPzFe"
      }
    },
    {
      "cell_type": "markdown",
      "source": [
        "a. Use negative indices to slice and print the following from the string"
      ],
      "metadata": {
        "id": "zDVkbFtBP6Fq"
      }
    },
    {
      "cell_type": "markdown",
      "source": [
        "1. The last 3 characters."
      ],
      "metadata": {
        "id": "LD3TXqf3P9FM"
      }
    },
    {
      "cell_type": "code",
      "source": [
        "s = \"Hello,World!\""
      ],
      "metadata": {
        "id": "vFOjCFOgPbo6"
      },
      "execution_count": 13,
      "outputs": []
    },
    {
      "cell_type": "code",
      "source": [
        "s[-3:]"
      ],
      "metadata": {
        "colab": {
          "base_uri": "https://localhost:8080/",
          "height": 36
        },
        "id": "fUiH8LyZQKeJ",
        "outputId": "b1305dd2-3512-49f9-afa1-e77e29c48d70"
      },
      "execution_count": 14,
      "outputs": [
        {
          "output_type": "execute_result",
          "data": {
            "text/plain": [
              "'ld!'"
            ],
            "application/vnd.google.colaboratory.intrinsic+json": {
              "type": "string"
            }
          },
          "metadata": {},
          "execution_count": 14
        }
      ]
    },
    {
      "cell_type": "markdown",
      "source": [
        "2. All characters except the last 2."
      ],
      "metadata": {
        "id": "vLwgcQw4Qdmu"
      }
    },
    {
      "cell_type": "code",
      "source": [
        "s = \"Hello,World!\""
      ],
      "metadata": {
        "id": "7Jc5gMOFQMgV"
      },
      "execution_count": 15,
      "outputs": []
    },
    {
      "cell_type": "code",
      "source": [
        "s[:-2]"
      ],
      "metadata": {
        "colab": {
          "base_uri": "https://localhost:8080/",
          "height": 36
        },
        "id": "mReecxG9Qkqf",
        "outputId": "ef8f4da8-c696-451a-b3b2-6ab37b7e0dc1"
      },
      "execution_count": 19,
      "outputs": [
        {
          "output_type": "execute_result",
          "data": {
            "text/plain": [
              "'Hello,Worl'"
            ],
            "application/vnd.google.colaboratory.intrinsic+json": {
              "type": "string"
            }
          },
          "metadata": {},
          "execution_count": 19
        }
      ]
    },
    {
      "cell_type": "markdown",
      "source": [
        "3. The string reversed."
      ],
      "metadata": {
        "id": "cEDuvf1dRAmL"
      }
    },
    {
      "cell_type": "code",
      "source": [
        "s =  \"Hello,World!\""
      ],
      "metadata": {
        "id": "UoUHo1V-QvBY"
      },
      "execution_count": 20,
      "outputs": []
    },
    {
      "cell_type": "code",
      "source": [
        "s[:-14:-1]"
      ],
      "metadata": {
        "colab": {
          "base_uri": "https://localhost:8080/",
          "height": 36
        },
        "id": "WJUvM-gZRDcb",
        "outputId": "4eae3f27-459f-4a45-dc4e-fd55b80c5907"
      },
      "execution_count": 28,
      "outputs": [
        {
          "output_type": "execute_result",
          "data": {
            "text/plain": [
              "'!dlroW,olleH'"
            ],
            "application/vnd.google.colaboratory.intrinsic+json": {
              "type": "string"
            }
          },
          "metadata": {},
          "execution_count": 28
        }
      ]
    },
    {
      "cell_type": "markdown",
      "source": [
        "## Part 2: Advanced Slicing"
      ],
      "metadata": {
        "id": "P48b2gBORh_q"
      }
    },
    {
      "cell_type": "markdown",
      "source": [
        "1. Slicing Substrings:"
      ],
      "metadata": {
        "id": "uR2szprJRlPK"
      }
    },
    {
      "cell_type": "markdown",
      "source": [
        "a. Given a string sentence = \"The quick brown fox jumps over the lazy\n",
        "dog\", slice and print the following:"
      ],
      "metadata": {
        "id": "5H964RiwRm3H"
      }
    },
    {
      "cell_type": "markdown",
      "source": [
        "i. The word \"quick\"."
      ],
      "metadata": {
        "id": "v3KM8sPwRqbm"
      }
    },
    {
      "cell_type": "code",
      "source": [
        "s = \"The quick brown fox jumps over the lazy dog\""
      ],
      "metadata": {
        "id": "KI5GN_LMRIYX"
      },
      "execution_count": 30,
      "outputs": []
    },
    {
      "cell_type": "code",
      "source": [
        "s[4:9]"
      ],
      "metadata": {
        "colab": {
          "base_uri": "https://localhost:8080/",
          "height": 36
        },
        "id": "3J7ckBDYR0gL",
        "outputId": "ad3cb671-f692-4814-ef82-39b7fd044484"
      },
      "execution_count": 33,
      "outputs": [
        {
          "output_type": "execute_result",
          "data": {
            "text/plain": [
              "'quick'"
            ],
            "application/vnd.google.colaboratory.intrinsic+json": {
              "type": "string"
            }
          },
          "metadata": {},
          "execution_count": 33
        }
      ]
    },
    {
      "cell_type": "code",
      "source": [
        "s = \"The quick brown fox jumps over the lazy dog\""
      ],
      "metadata": {
        "id": "ZdYSO8vmR6oJ"
      },
      "execution_count": 34,
      "outputs": []
    },
    {
      "cell_type": "code",
      "source": [
        "s[35:39]"
      ],
      "metadata": {
        "colab": {
          "base_uri": "https://localhost:8080/",
          "height": 36
        },
        "id": "iw4Xv0jfSDQM",
        "outputId": "2abc6ac3-1af1-4349-dc00-dc307d472382"
      },
      "execution_count": 38,
      "outputs": [
        {
          "output_type": "execute_result",
          "data": {
            "text/plain": [
              "'lazy'"
            ],
            "application/vnd.google.colaboratory.intrinsic+json": {
              "type": "string"
            }
          },
          "metadata": {},
          "execution_count": 38
        }
      ]
    },
    {
      "cell_type": "code",
      "source": [
        "s = \"The quick brown fox jumps over the lazy dog\""
      ],
      "metadata": {
        "id": "Hwk8FpvHSOjn"
      },
      "execution_count": 39,
      "outputs": []
    },
    {
      "cell_type": "code",
      "source": [
        "s[10:25]"
      ],
      "metadata": {
        "colab": {
          "base_uri": "https://localhost:8080/",
          "height": 36
        },
        "id": "FrctRC4NSW97",
        "outputId": "66f68191-41d2-4d9a-dddb-d7a905aec53d"
      },
      "execution_count": 40,
      "outputs": [
        {
          "output_type": "execute_result",
          "data": {
            "text/plain": [
              "'brown fox jumps'"
            ],
            "application/vnd.google.colaboratory.intrinsic+json": {
              "type": "string"
            }
          },
          "metadata": {},
          "execution_count": 40
        }
      ]
    },
    {
      "cell_type": "markdown",
      "source": [
        "2. Step Slicing:"
      ],
      "metadata": {
        "id": "6zfQ2v9bSkIh"
      }
    },
    {
      "cell_type": "markdown",
      "source": [
        "a. Use step slicing to print the following from the string s:"
      ],
      "metadata": {
        "id": "cM5KT9CpSnh8"
      }
    },
    {
      "cell_type": "markdown",
      "source": [
        "i. Every third character."
      ],
      "metadata": {
        "id": "8vXIv_yrSp7p"
      }
    },
    {
      "cell_type": "code",
      "source": [
        "s = \"Thequickbrownfoxjumpsoverthelazydog\""
      ],
      "metadata": {
        "id": "ofht7iAASgvX"
      },
      "execution_count": 47,
      "outputs": []
    },
    {
      "cell_type": "code",
      "source": [
        "s[::3]"
      ],
      "metadata": {
        "colab": {
          "base_uri": "https://localhost:8080/",
          "height": 36
        },
        "id": "HG-iry8nTUkP",
        "outputId": "24621591-8949-4b4f-a97c-545a5232638b"
      },
      "execution_count": 48,
      "outputs": [
        {
          "output_type": "execute_result",
          "data": {
            "text/plain": [
              "'Tqcrnxmorezo'"
            ],
            "application/vnd.google.colaboratory.intrinsic+json": {
              "type": "string"
            }
          },
          "metadata": {},
          "execution_count": 48
        }
      ]
    },
    {
      "cell_type": "code",
      "source": [
        "s = \"Thequickbrownfoxjumpsoverthelazydog\""
      ],
      "metadata": {
        "id": "aFzgh0d6Tdje"
      },
      "execution_count": 49,
      "outputs": []
    },
    {
      "cell_type": "markdown",
      "source": [
        "ii. Every third character starting from the second character."
      ],
      "metadata": {
        "id": "ODtpQ4hxUuCA"
      }
    },
    {
      "cell_type": "code",
      "source": [
        "s[1::3]"
      ],
      "metadata": {
        "colab": {
          "base_uri": "https://localhost:8080/",
          "height": 36
        },
        "id": "AlgmzdQTUQlm",
        "outputId": "4debae27-5493-4f92-ecc1-e1dbb9d472fb"
      },
      "execution_count": 51,
      "outputs": [
        {
          "output_type": "execute_result",
          "data": {
            "text/plain": [
              "'hukofjpvtlyg'"
            ],
            "application/vnd.google.colaboratory.intrinsic+json": {
              "type": "string"
            }
          },
          "metadata": {},
          "execution_count": 51
        }
      ]
    },
    {
      "cell_type": "markdown",
      "source": [
        "iii. The string reversed, stepping by 2."
      ],
      "metadata": {
        "id": "970XWFZlUxQ1"
      }
    },
    {
      "cell_type": "code",
      "source": [
        "s = \"Thequickbrownfoxjumpsoverthelazydog\""
      ],
      "metadata": {
        "id": "MzI1WEZXUVTw"
      },
      "execution_count": 52,
      "outputs": []
    },
    {
      "cell_type": "code",
      "source": [
        "s[::-2]"
      ],
      "metadata": {
        "colab": {
          "base_uri": "https://localhost:8080/",
          "height": 36
        },
        "id": "3565a3yvU1of",
        "outputId": "e5077ed3-6b7b-42c8-bb26-5f4af9b019f6"
      },
      "execution_count": 54,
      "outputs": [
        {
          "output_type": "execute_result",
          "data": {
            "text/plain": [
              "'gdzlhrvsmjonobcueT'"
            ],
            "application/vnd.google.colaboratory.intrinsic+json": {
              "type": "string"
            }
          },
          "metadata": {},
          "execution_count": 54
        }
      ]
    },
    {
      "cell_type": "markdown",
      "source": [
        "## Part 3: Practical Application"
      ],
      "metadata": {
        "id": "jQCD1pKEVFYk"
      }
    },
    {
      "cell_type": "markdown",
      "source": [
        "1. Extracting Information:"
      ],
      "metadata": {
        "id": "B9seGW4nVH9T"
      }
    },
    {
      "cell_type": "markdown",
      "source": [
        "a. Given a string data = \"2024-09-01,Sunny,25°C\", extract and print\n",
        "the following:"
      ],
      "metadata": {
        "id": "VG1NbBCmVKFk"
      }
    },
    {
      "cell_type": "markdown",
      "source": [
        "i. The date."
      ],
      "metadata": {
        "id": "TR6WhRwGVLxn"
      }
    },
    {
      "cell_type": "code",
      "source": [
        "Data= \"2024-09-01,Sunny,25°C\""
      ],
      "metadata": {
        "id": "T79Bf7XOU57g"
      },
      "execution_count": 62,
      "outputs": []
    },
    {
      "cell_type": "code",
      "source": [
        "Data[0:10]"
      ],
      "metadata": {
        "colab": {
          "base_uri": "https://localhost:8080/",
          "height": 36
        },
        "id": "0ltYqWmeVV-H",
        "outputId": "53e61a34-5e28-4bb4-8d5c-73b3d7ccbd71"
      },
      "execution_count": 63,
      "outputs": [
        {
          "output_type": "execute_result",
          "data": {
            "text/plain": [
              "'2024-09-01'"
            ],
            "application/vnd.google.colaboratory.intrinsic+json": {
              "type": "string"
            }
          },
          "metadata": {},
          "execution_count": 63
        }
      ]
    },
    {
      "cell_type": "markdown",
      "source": [
        "ii. The weather condition."
      ],
      "metadata": {
        "id": "dBWJjqguV-NS"
      }
    },
    {
      "cell_type": "code",
      "source": [
        "Data= \"2024-09-01,Sunny,25°C\""
      ],
      "metadata": {
        "id": "QILvF_FzVYIt"
      },
      "execution_count": 64,
      "outputs": []
    },
    {
      "cell_type": "code",
      "source": [
        "Data[11:16]"
      ],
      "metadata": {
        "colab": {
          "base_uri": "https://localhost:8080/",
          "height": 36
        },
        "id": "jsro9zrLWAs0",
        "outputId": "1a9e524c-c3cb-40c1-e1ca-c5fdb96dcd16"
      },
      "execution_count": 67,
      "outputs": [
        {
          "output_type": "execute_result",
          "data": {
            "text/plain": [
              "'Sunny'"
            ],
            "application/vnd.google.colaboratory.intrinsic+json": {
              "type": "string"
            }
          },
          "metadata": {},
          "execution_count": 67
        }
      ]
    },
    {
      "cell_type": "markdown",
      "source": [
        "iii. The temperature"
      ],
      "metadata": {
        "id": "uRvWPXm9WPqF"
      }
    },
    {
      "cell_type": "code",
      "source": [
        "Data = \"2024-09-01,Sunny,25°C\""
      ],
      "metadata": {
        "id": "wCeqWCTPWGgS"
      },
      "execution_count": 68,
      "outputs": []
    },
    {
      "cell_type": "code",
      "source": [
        "Data[17:21]"
      ],
      "metadata": {
        "colab": {
          "base_uri": "https://localhost:8080/",
          "height": 36
        },
        "id": "hBUk_hMOWRZZ",
        "outputId": "05b644c3-4544-424f-dea9-a8888f22c194"
      },
      "execution_count": 71,
      "outputs": [
        {
          "output_type": "execute_result",
          "data": {
            "text/plain": [
              "'25°C'"
            ],
            "application/vnd.google.colaboratory.intrinsic+json": {
              "type": "string"
            }
          },
          "metadata": {},
          "execution_count": 71
        }
      ]
    },
    {
      "cell_type": "markdown",
      "source": [
        "2. Reformatting Strings:"
      ],
      "metadata": {
        "id": "PWiPr6dLWYo6"
      }
    },
    {
      "cell_type": "markdown",
      "source": [
        "i. Given a string phone_number = \"(123) 456-7890\", reformat\n",
        "it to ‘123-456-7890’"
      ],
      "metadata": {
        "id": "5xRLfiebWcYX"
      }
    },
    {
      "cell_type": "code",
      "source": [
        " Phone_number = \"(123) 456-7890\""
      ],
      "metadata": {
        "id": "pbrYTE1LWUBk"
      },
      "execution_count": 76,
      "outputs": []
    },
    {
      "cell_type": "code",
      "source": [
        "Phone_number[1:4]+\"-\"+ Phone_number[6:9]+\"-\"+Phone_number[10:14]"
      ],
      "metadata": {
        "colab": {
          "base_uri": "https://localhost:8080/",
          "height": 36
        },
        "id": "2_7AoEDaWjes",
        "outputId": "50c1e653-287f-4419-d224-c763f6033623"
      },
      "execution_count": 83,
      "outputs": [
        {
          "output_type": "execute_result",
          "data": {
            "text/plain": [
              "'123-456-7890'"
            ],
            "application/vnd.google.colaboratory.intrinsic+json": {
              "type": "string"
            }
          },
          "metadata": {},
          "execution_count": 83
        }
      ]
    },
    {
      "cell_type": "markdown",
      "source": [
        "## Part 4: Questions based on string methods"
      ],
      "metadata": {
        "id": "Ig2xxh30YWQy"
      }
    },
    {
      "cell_type": "markdown",
      "source": [
        "1. Upper and Lower Case Conversion:"
      ],
      "metadata": {
        "id": "V5Mxl14tYY1x"
      }
    },
    {
      "cell_type": "markdown",
      "source": [
        "i. Given a string s = \"Hello, World!\", perform the following:"
      ],
      "metadata": {
        "id": "b0fU3eJwYbnv"
      }
    },
    {
      "cell_type": "markdown",
      "source": [
        "b. Convert the string to all uppercase letters."
      ],
      "metadata": {
        "id": "tut8-AUEYfzl"
      }
    },
    {
      "cell_type": "code",
      "source": [
        "s = \"Hello, World!\""
      ],
      "metadata": {
        "id": "zCow7IwlXjCx"
      },
      "execution_count": 84,
      "outputs": []
    },
    {
      "cell_type": "code",
      "source": [
        "s.upper()"
      ],
      "metadata": {
        "colab": {
          "base_uri": "https://localhost:8080/",
          "height": 36
        },
        "id": "0x5gkFzbZOzz",
        "outputId": "84a7d1ba-bf52-412a-82f8-0d4df5220d5a"
      },
      "execution_count": 87,
      "outputs": [
        {
          "output_type": "execute_result",
          "data": {
            "text/plain": [
              "'HELLO, WORLD!'"
            ],
            "application/vnd.google.colaboratory.intrinsic+json": {
              "type": "string"
            }
          },
          "metadata": {},
          "execution_count": 87
        }
      ]
    },
    {
      "cell_type": "markdown",
      "source": [
        "c. Convert the string to all lowercase letters."
      ],
      "metadata": {
        "id": "okdfpZwHaDhA"
      }
    },
    {
      "cell_type": "code",
      "source": [
        "s= \"Hello, World!\""
      ],
      "metadata": {
        "id": "KZmHTWlyZ3To"
      },
      "execution_count": 88,
      "outputs": []
    },
    {
      "cell_type": "code",
      "source": [
        "s.lower()"
      ],
      "metadata": {
        "colab": {
          "base_uri": "https://localhost:8080/",
          "height": 36
        },
        "id": "mF_Cl2e5aGLZ",
        "outputId": "52fb230b-015c-46c9-efb8-ceff146484ee"
      },
      "execution_count": 89,
      "outputs": [
        {
          "output_type": "execute_result",
          "data": {
            "text/plain": [
              "'hello, world!'"
            ],
            "application/vnd.google.colaboratory.intrinsic+json": {
              "type": "string"
            }
          },
          "metadata": {},
          "execution_count": 89
        }
      ]
    },
    {
      "cell_type": "markdown",
      "source": [
        "d. Convert the string to title case."
      ],
      "metadata": {
        "id": "9tzcGSQnaKMZ"
      }
    },
    {
      "cell_type": "code",
      "source": [
        "s= \"Hello, World!\"\n"
      ],
      "metadata": {
        "id": "eypqe179aHi7"
      },
      "execution_count": 90,
      "outputs": []
    },
    {
      "cell_type": "code",
      "source": [
        "s.title()"
      ],
      "metadata": {
        "colab": {
          "base_uri": "https://localhost:8080/",
          "height": 36
        },
        "id": "3Hxj8OzSaMW8",
        "outputId": "f6f34839-c4af-4f18-f457-b8dee8e487bc"
      },
      "execution_count": 92,
      "outputs": [
        {
          "output_type": "execute_result",
          "data": {
            "text/plain": [
              "'Hello, World!'"
            ],
            "application/vnd.google.colaboratory.intrinsic+json": {
              "type": "string"
            }
          },
          "metadata": {},
          "execution_count": 92
        }
      ]
    },
    {
      "cell_type": "markdown",
      "source": [
        "e. Capitalize the first letter of the string."
      ],
      "metadata": {
        "id": "Qn6wcM5daecH"
      }
    },
    {
      "cell_type": "code",
      "source": [
        "s= \"Hello, World!\""
      ],
      "metadata": {
        "id": "EZtDK7DdaTZ7"
      },
      "execution_count": 93,
      "outputs": []
    },
    {
      "cell_type": "code",
      "source": [
        "s.capitalize()"
      ],
      "metadata": {
        "colab": {
          "base_uri": "https://localhost:8080/",
          "height": 36
        },
        "id": "NSoze9BKaf0i",
        "outputId": "de7c0ed1-023d-43ea-e6f7-585ba8ad567e"
      },
      "execution_count": 95,
      "outputs": [
        {
          "output_type": "execute_result",
          "data": {
            "text/plain": [
              "'Hello, world!'"
            ],
            "application/vnd.google.colaboratory.intrinsic+json": {
              "type": "string"
            }
          },
          "metadata": {},
          "execution_count": 95
        }
      ]
    },
    {
      "cell_type": "markdown",
      "source": [
        "2. Finding Substrings:"
      ],
      "metadata": {
        "id": "zCIjkJY_aslC"
      }
    },
    {
      "cell_type": "markdown",
      "source": [
        "Given a string s = \"The quick brown fox jumps over the lazy dog\",\n",
        "perform the following:"
      ],
      "metadata": {
        "id": "60ID_JsXavWe"
      }
    },
    {
      "cell_type": "markdown",
      "source": [
        "a. Find the position of the substring \"fox\"."
      ],
      "metadata": {
        "id": "qcXA2RAwax1e"
      }
    },
    {
      "cell_type": "code",
      "source": [
        "s= \"The quick brown fox jumps over the lazy dog\""
      ],
      "metadata": {
        "id": "nsF5oaJhalde"
      },
      "execution_count": 96,
      "outputs": []
    },
    {
      "cell_type": "code",
      "source": [
        "s.find(\"fox\")"
      ],
      "metadata": {
        "colab": {
          "base_uri": "https://localhost:8080/"
        },
        "id": "q7BNQhdja0IH",
        "outputId": "51afdf81-b316-49f4-cc0c-65ebbbbef79b"
      },
      "execution_count": 97,
      "outputs": [
        {
          "output_type": "execute_result",
          "data": {
            "text/plain": [
              "16"
            ]
          },
          "metadata": {},
          "execution_count": 97
        }
      ]
    },
    {
      "cell_type": "markdown",
      "source": [
        "b. Check if the substring \"cat\" is in the string."
      ],
      "metadata": {
        "id": "cMMeBOjna8jl"
      }
    },
    {
      "cell_type": "code",
      "source": [
        "s.find(\"cat\")"
      ],
      "metadata": {
        "colab": {
          "base_uri": "https://localhost:8080/"
        },
        "id": "XPn4unHla6Ki",
        "outputId": "a67ba41e-8d6c-4ab5-c694-7b7890e2960a"
      },
      "execution_count": 103,
      "outputs": [
        {
          "output_type": "execute_result",
          "data": {
            "text/plain": [
              "-1"
            ]
          },
          "metadata": {},
          "execution_count": 103
        }
      ]
    },
    {
      "cell_type": "markdown",
      "source": [
        "3. Replacing Substrings:"
      ],
      "metadata": {
        "id": "VtIEC1ZGiQ_P"
      }
    },
    {
      "cell_type": "markdown",
      "source": [
        "Given a string s = \"The quick brown fox jumps over the lazy dog\",\n",
        "perform the following:"
      ],
      "metadata": {
        "id": "TqMvJlf4iVb5"
      }
    },
    {
      "cell_type": "markdown",
      "source": [
        "a. Replace \"fox\" with \"cat\"."
      ],
      "metadata": {
        "id": "MnDKKYQ0iXZJ"
      }
    },
    {
      "cell_type": "code",
      "source": [
        "s= \"The quick brown fox jumps over the lazy dog\""
      ],
      "metadata": {
        "id": "X0oDd21da_vT"
      },
      "execution_count": 104,
      "outputs": []
    },
    {
      "cell_type": "code",
      "source": [
        "s.replace(\"fox\",\"cat\")"
      ],
      "metadata": {
        "colab": {
          "base_uri": "https://localhost:8080/",
          "height": 36
        },
        "id": "PDyn9q4RiZP3",
        "outputId": "2286736e-462a-411f-b00e-290b4ddfc6e8"
      },
      "execution_count": 105,
      "outputs": [
        {
          "output_type": "execute_result",
          "data": {
            "text/plain": [
              "'The quick brown cat jumps over the lazy dog'"
            ],
            "application/vnd.google.colaboratory.intrinsic+json": {
              "type": "string"
            }
          },
          "metadata": {},
          "execution_count": 105
        }
      ]
    },
    {
      "cell_type": "markdown",
      "source": [
        "b. Replace all spaces with underscores."
      ],
      "metadata": {
        "id": "wqIEMLbZief6"
      }
    },
    {
      "cell_type": "code",
      "source": [
        "s= \"The quick brown fox jumps over the lazy dog\""
      ],
      "metadata": {
        "id": "kid9NtndicHf"
      },
      "execution_count": 106,
      "outputs": []
    },
    {
      "cell_type": "code",
      "source": [
        "s.replace(\" \",\"_\")"
      ],
      "metadata": {
        "colab": {
          "base_uri": "https://localhost:8080/",
          "height": 36
        },
        "id": "m5E-bjpLigWU",
        "outputId": "25008eb8-7610-4cb3-c282-7f37c1639f21"
      },
      "execution_count": 107,
      "outputs": [
        {
          "output_type": "execute_result",
          "data": {
            "text/plain": [
              "'The_quick_brown_fox_jumps_over_the_lazy_dog'"
            ],
            "application/vnd.google.colaboratory.intrinsic+json": {
              "type": "string"
            }
          },
          "metadata": {},
          "execution_count": 107
        }
      ]
    },
    {
      "cell_type": "markdown",
      "source": [
        "c. Split the string into a list of words."
      ],
      "metadata": {
        "id": "J91WIia_ilXO"
      }
    },
    {
      "cell_type": "code",
      "source": [
        "s= \"The quick brown fox jumps over the lazy dog\""
      ],
      "metadata": {
        "id": "myAPW7HXijRn"
      },
      "execution_count": 108,
      "outputs": []
    },
    {
      "cell_type": "code",
      "source": [
        "s.split()"
      ],
      "metadata": {
        "colab": {
          "base_uri": "https://localhost:8080/"
        },
        "id": "S-gcBzSiiore",
        "outputId": "04328420-97d6-4160-c015-7e0e33a08e0e"
      },
      "execution_count": 112,
      "outputs": [
        {
          "output_type": "execute_result",
          "data": {
            "text/plain": [
              "['The', 'quick', 'brown', 'fox', 'jumps', 'over', 'the', 'lazy', 'dog']"
            ]
          },
          "metadata": {},
          "execution_count": 112
        }
      ]
    },
    {
      "cell_type": "markdown",
      "source": [
        "d. Split the string by the letter 'o'.\n"
      ],
      "metadata": {
        "id": "uuWvC5YxjdSg"
      }
    },
    {
      "cell_type": "code",
      "source": [
        "s= \"The quick brown fox jumps over the lazy dog\""
      ],
      "metadata": {
        "id": "1s6h29duisx9"
      },
      "execution_count": 113,
      "outputs": []
    },
    {
      "cell_type": "code",
      "source": [
        "s.split(\"o\")"
      ],
      "metadata": {
        "colab": {
          "base_uri": "https://localhost:8080/"
        },
        "id": "UUgdmOWRjJ8Q",
        "outputId": "9a6144d8-2a21-4eec-b9c1-7e9274964c15"
      },
      "execution_count": 118,
      "outputs": [
        {
          "output_type": "execute_result",
          "data": {
            "text/plain": [
              "['The quick br', 'wn f', 'x jumps ', 'ver the lazy d', 'g']"
            ]
          },
          "metadata": {},
          "execution_count": 118
        }
      ]
    },
    {
      "cell_type": "markdown",
      "source": [
        "4.Joining Strings:"
      ],
      "metadata": {
        "id": "l2Rn99bQjfge"
      }
    },
    {
      "cell_type": "markdown",
      "source": [
        "Given a list of words\n",
        "words = [\"The\", \"quick\", \"brown\", \"fox\"],\n",
        "perform the following:"
      ],
      "metadata": {
        "id": "YJPL46_ljivl"
      }
    },
    {
      "cell_type": "markdown",
      "source": [
        "a. Join the words with spaces."
      ],
      "metadata": {
        "id": "BmkgGqKxjlWV"
      }
    },
    {
      "cell_type": "code",
      "source": [
        "words = [\"The\", \"quick\", \"brown\", \"fox\"]"
      ],
      "metadata": {
        "id": "quLocF7ejLry"
      },
      "execution_count": 119,
      "outputs": []
    },
    {
      "cell_type": "code",
      "source": [
        "\" \".join(words)"
      ],
      "metadata": {
        "colab": {
          "base_uri": "https://localhost:8080/",
          "height": 36
        },
        "id": "Tu-aXJadjpDG",
        "outputId": "5f551018-dffc-4f6f-f4c2-45800c230a4d"
      },
      "execution_count": 121,
      "outputs": [
        {
          "output_type": "execute_result",
          "data": {
            "text/plain": [
              "'The quick brown fox'"
            ],
            "application/vnd.google.colaboratory.intrinsic+json": {
              "type": "string"
            }
          },
          "metadata": {},
          "execution_count": 121
        }
      ]
    },
    {
      "cell_type": "markdown",
      "source": [
        "b. Join the words with hyphens"
      ],
      "metadata": {
        "id": "uKu5VfdWj4r_"
      }
    },
    {
      "cell_type": "code",
      "source": [
        "\"-\".join(words)"
      ],
      "metadata": {
        "colab": {
          "base_uri": "https://localhost:8080/",
          "height": 36
        },
        "id": "1dokLNRvjvFz",
        "outputId": "0f1fc3e0-f202-4bda-c649-b6ee41b50c0d"
      },
      "execution_count": 123,
      "outputs": [
        {
          "output_type": "execute_result",
          "data": {
            "text/plain": [
              "'The-quick-brown-fox'"
            ],
            "application/vnd.google.colaboratory.intrinsic+json": {
              "type": "string"
            }
          },
          "metadata": {},
          "execution_count": 123
        }
      ]
    },
    {
      "cell_type": "code",
      "source": [],
      "metadata": {
        "id": "kYjo3932j8oF"
      },
      "execution_count": null,
      "outputs": []
    }
  ]
}